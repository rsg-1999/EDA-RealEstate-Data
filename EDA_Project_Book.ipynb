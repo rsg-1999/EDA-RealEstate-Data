{
 "cells": [
  {
   "cell_type": "markdown",
   "metadata": {},
   "source": [
    "## <span style=\"color:white\"> __Introduction__ </span>"
   ]
  },
  {
   "cell_type": "markdown",
   "metadata": {},
   "source": [
    "Welcome to the documentation of my work for this EDA project where I do some exploratory data analysis for my fictitious client, Jacob Phillips and present him with my recomendations "
   ]
  },
  {
   "cell_type": "markdown",
   "metadata": {},
   "source": [
    "First from the database, in the Schema EDA, there were 2 tables. king_county_house_details and king_county_house_sales. For the purpose of getting relavant data (which can be found in column_names.md) I performed a left join usind the following SQL Query\n",
    "\n"
   ]
  },
  {
   "cell_type": "raw",
   "metadata": {
    "vscode": {
     "languageId": "raw"
    }
   },
   "source": [
    "SELECT \n",
    "    hd.id AS id,\n",
    "    hs.date AS dateDate,\n",
    "    hs.price AS pricePrice,\n",
    "    hd.bedrooms AS bedroomsNumber,\n",
    "    hd.bathrooms AS bathroomsNumber,\n",
    "    hd.sqft_living AS sqft_livingsquare,\n",
    "    hd.sqft_lot AS sqft_lotsquare,\n",
    "    hd.floors AS floorsTotal,\n",
    "    hd.waterfront,\n",
    "    hd.view,\n",
    "    hd.condition,\n",
    "    hd.grade,\n",
    "    hd.sqft_above,\n",
    "    hd.sqft_basement,\n",
    "    hd.yr_built,\n",
    "    hd.yr_renovated,\n",
    "    hd.zipcode,\n",
    "    hd.lat,\n",
    "    hd.long,\n",
    "    hd.sqft_living15,\n",
    "    hd.sqft_lot15\n",
    "FROM \n",
    "\tking_county_house_details hd\n",
    "Left JOIN \n",
    "\tking_county_house_sales hs \n",
    "ON \n",
    "\thd.id = hs.house_id ;"
   ]
  },
  {
   "cell_type": "markdown",
   "metadata": {},
   "source": [
    "After this query I have exportred the data to a .csv file"
   ]
  },
  {
   "cell_type": "markdown",
   "metadata": {
    "vscode": {
     "languageId": "raw"
    }
   },
   "source": [
    "## Understanding the Data"
   ]
  },
  {
   "cell_type": "markdown",
   "metadata": {},
   "source": [
    "First we load the data from the .csv file onto a pandas dataframe"
   ]
  },
  {
   "cell_type": "code",
   "execution_count": 1,
   "metadata": {},
   "outputs": [
    {
     "data": {
      "text/html": [
       "<div>\n",
       "<style scoped>\n",
       "    .dataframe tbody tr th:only-of-type {\n",
       "        vertical-align: middle;\n",
       "    }\n",
       "\n",
       "    .dataframe tbody tr th {\n",
       "        vertical-align: top;\n",
       "    }\n",
       "\n",
       "    .dataframe thead th {\n",
       "        text-align: right;\n",
       "    }\n",
       "</style>\n",
       "<table border=\"1\" class=\"dataframe\">\n",
       "  <thead>\n",
       "    <tr style=\"text-align: right;\">\n",
       "      <th></th>\n",
       "      <th>id</th>\n",
       "      <th>datedate</th>\n",
       "      <th>priceprice</th>\n",
       "      <th>bedroomsnumber</th>\n",
       "      <th>bathroomsnumber</th>\n",
       "      <th>sqft_livingsquare</th>\n",
       "      <th>sqft_lotsquare</th>\n",
       "      <th>floorstotal</th>\n",
       "      <th>waterfront</th>\n",
       "      <th>view</th>\n",
       "      <th>...</th>\n",
       "      <th>grade</th>\n",
       "      <th>sqft_above</th>\n",
       "      <th>sqft_basement</th>\n",
       "      <th>yr_built</th>\n",
       "      <th>yr_renovated</th>\n",
       "      <th>zipcode</th>\n",
       "      <th>lat</th>\n",
       "      <th>long</th>\n",
       "      <th>sqft_living15</th>\n",
       "      <th>sqft_lot15</th>\n",
       "    </tr>\n",
       "  </thead>\n",
       "  <tbody>\n",
       "    <tr>\n",
       "      <th>0</th>\n",
       "      <td>7129300520</td>\n",
       "      <td>2014-10-13</td>\n",
       "      <td>221900.0</td>\n",
       "      <td>3.0</td>\n",
       "      <td>1.00</td>\n",
       "      <td>1180.0</td>\n",
       "      <td>5650.0</td>\n",
       "      <td>1.0</td>\n",
       "      <td>NaN</td>\n",
       "      <td>0.0</td>\n",
       "      <td>...</td>\n",
       "      <td>7</td>\n",
       "      <td>1180.0</td>\n",
       "      <td>0.0</td>\n",
       "      <td>1955</td>\n",
       "      <td>0.0</td>\n",
       "      <td>98178</td>\n",
       "      <td>47.5112</td>\n",
       "      <td>-122.257</td>\n",
       "      <td>1340.0</td>\n",
       "      <td>5650.0</td>\n",
       "    </tr>\n",
       "    <tr>\n",
       "      <th>1</th>\n",
       "      <td>6414100192</td>\n",
       "      <td>2014-12-09</td>\n",
       "      <td>538000.0</td>\n",
       "      <td>3.0</td>\n",
       "      <td>2.25</td>\n",
       "      <td>2570.0</td>\n",
       "      <td>7242.0</td>\n",
       "      <td>2.0</td>\n",
       "      <td>0.0</td>\n",
       "      <td>0.0</td>\n",
       "      <td>...</td>\n",
       "      <td>7</td>\n",
       "      <td>2170.0</td>\n",
       "      <td>400.0</td>\n",
       "      <td>1951</td>\n",
       "      <td>19910.0</td>\n",
       "      <td>98125</td>\n",
       "      <td>47.7210</td>\n",
       "      <td>-122.319</td>\n",
       "      <td>1690.0</td>\n",
       "      <td>7639.0</td>\n",
       "    </tr>\n",
       "    <tr>\n",
       "      <th>2</th>\n",
       "      <td>5631500400</td>\n",
       "      <td>2015-02-25</td>\n",
       "      <td>180000.0</td>\n",
       "      <td>2.0</td>\n",
       "      <td>1.00</td>\n",
       "      <td>770.0</td>\n",
       "      <td>10000.0</td>\n",
       "      <td>1.0</td>\n",
       "      <td>0.0</td>\n",
       "      <td>0.0</td>\n",
       "      <td>...</td>\n",
       "      <td>6</td>\n",
       "      <td>770.0</td>\n",
       "      <td>0.0</td>\n",
       "      <td>1933</td>\n",
       "      <td>NaN</td>\n",
       "      <td>98028</td>\n",
       "      <td>47.7379</td>\n",
       "      <td>-122.233</td>\n",
       "      <td>2720.0</td>\n",
       "      <td>8062.0</td>\n",
       "    </tr>\n",
       "    <tr>\n",
       "      <th>3</th>\n",
       "      <td>2487200875</td>\n",
       "      <td>2014-12-09</td>\n",
       "      <td>604000.0</td>\n",
       "      <td>4.0</td>\n",
       "      <td>3.00</td>\n",
       "      <td>1960.0</td>\n",
       "      <td>5000.0</td>\n",
       "      <td>1.0</td>\n",
       "      <td>0.0</td>\n",
       "      <td>0.0</td>\n",
       "      <td>...</td>\n",
       "      <td>7</td>\n",
       "      <td>1050.0</td>\n",
       "      <td>910.0</td>\n",
       "      <td>1965</td>\n",
       "      <td>0.0</td>\n",
       "      <td>98136</td>\n",
       "      <td>47.5208</td>\n",
       "      <td>-122.393</td>\n",
       "      <td>1360.0</td>\n",
       "      <td>5000.0</td>\n",
       "    </tr>\n",
       "    <tr>\n",
       "      <th>4</th>\n",
       "      <td>1954400510</td>\n",
       "      <td>2015-02-18</td>\n",
       "      <td>510000.0</td>\n",
       "      <td>3.0</td>\n",
       "      <td>2.00</td>\n",
       "      <td>1680.0</td>\n",
       "      <td>8080.0</td>\n",
       "      <td>1.0</td>\n",
       "      <td>0.0</td>\n",
       "      <td>0.0</td>\n",
       "      <td>...</td>\n",
       "      <td>8</td>\n",
       "      <td>1680.0</td>\n",
       "      <td>0.0</td>\n",
       "      <td>1987</td>\n",
       "      <td>0.0</td>\n",
       "      <td>98074</td>\n",
       "      <td>47.6168</td>\n",
       "      <td>-122.045</td>\n",
       "      <td>1800.0</td>\n",
       "      <td>7503.0</td>\n",
       "    </tr>\n",
       "  </tbody>\n",
       "</table>\n",
       "<p>5 rows × 21 columns</p>\n",
       "</div>"
      ],
      "text/plain": [
       "           id    datedate  priceprice  bedroomsnumber  bathroomsnumber  \\\n",
       "0  7129300520  2014-10-13    221900.0             3.0             1.00   \n",
       "1  6414100192  2014-12-09    538000.0             3.0             2.25   \n",
       "2  5631500400  2015-02-25    180000.0             2.0             1.00   \n",
       "3  2487200875  2014-12-09    604000.0             4.0             3.00   \n",
       "4  1954400510  2015-02-18    510000.0             3.0             2.00   \n",
       "\n",
       "   sqft_livingsquare  sqft_lotsquare  floorstotal  waterfront  view  ...  \\\n",
       "0             1180.0          5650.0          1.0         NaN   0.0  ...   \n",
       "1             2570.0          7242.0          2.0         0.0   0.0  ...   \n",
       "2              770.0         10000.0          1.0         0.0   0.0  ...   \n",
       "3             1960.0          5000.0          1.0         0.0   0.0  ...   \n",
       "4             1680.0          8080.0          1.0         0.0   0.0  ...   \n",
       "\n",
       "   grade  sqft_above  sqft_basement  yr_built  yr_renovated  zipcode      lat  \\\n",
       "0      7      1180.0            0.0      1955           0.0    98178  47.5112   \n",
       "1      7      2170.0          400.0      1951       19910.0    98125  47.7210   \n",
       "2      6       770.0            0.0      1933           NaN    98028  47.7379   \n",
       "3      7      1050.0          910.0      1965           0.0    98136  47.5208   \n",
       "4      8      1680.0            0.0      1987           0.0    98074  47.6168   \n",
       "\n",
       "      long  sqft_living15  sqft_lot15  \n",
       "0 -122.257         1340.0      5650.0  \n",
       "1 -122.319         1690.0      7639.0  \n",
       "2 -122.233         2720.0      8062.0  \n",
       "3 -122.393         1360.0      5000.0  \n",
       "4 -122.045         1800.0      7503.0  \n",
       "\n",
       "[5 rows x 21 columns]"
      ]
     },
     "execution_count": 1,
     "metadata": {},
     "output_type": "execute_result"
    }
   ],
   "source": [
    "import pandas as pd\n",
    "kcdf = pd.read_csv(\"data/King_County_House_prices_dataset.csv\")\n",
    "kcdf.head()"
   ]
  },
  {
   "cell_type": "markdown",
   "metadata": {},
   "source": [
    "### Column Names and descriptions for King County Data Set\n",
    "\n",
    "- **id** - unique identified for a house\n",
    "- **dateDate** - house was sold\n",
    "- **pricePrice** - is prediction target\n",
    "- **bedroomsNumber** - # of bedrooms\n",
    "- **bathroomsNumber** - # of bathrooms\n",
    "- **sqft_livingsquare** - footage of the home\n",
    "- **sqft_lotsquare** - footage of the lot\n",
    "- **floorsTotal** - floors (levels) in house\n",
    "- **waterfront** - House which has a view to a waterfront\n",
    "- **view** - Has been viewed\n",
    "- **condition** - How good the condition is ( Overall )\n",
    "- **grade** - overall grade given to the housing unit, based on King County grading system\n",
    "- **sqft_above** - square footage of house apart from basement\n",
    "- **sqft_basement** - square footage of the basement\n",
    "- **yr_built** - Built Year\n",
    "- **yr_renovated** - Year when house was renovated\n",
    "- **zipcode** - zip\n",
    "- **lat** - Latitude coordinate\n",
    "- **long** - Longitude coordinate\n",
    "- **sqft_living15** - The square footage of interior housing living space for the nearest 15 neighbors\n",
    "- **sqft_lot15** - The square footage of the land lots of the nearest 15 neighbors"
   ]
  },
  {
   "cell_type": "markdown",
   "metadata": {},
   "source": [
    "### Preliminary examination of data"
   ]
  },
  {
   "cell_type": "code",
   "execution_count": 42,
   "metadata": {},
   "outputs": [
    {
     "data": {
      "text/html": [
       "<div>\n",
       "<style scoped>\n",
       "    .dataframe tbody tr th:only-of-type {\n",
       "        vertical-align: middle;\n",
       "    }\n",
       "\n",
       "    .dataframe tbody tr th {\n",
       "        vertical-align: top;\n",
       "    }\n",
       "\n",
       "    .dataframe thead th {\n",
       "        text-align: right;\n",
       "    }\n",
       "</style>\n",
       "<table border=\"1\" class=\"dataframe\">\n",
       "  <thead>\n",
       "    <tr style=\"text-align: right;\">\n",
       "      <th></th>\n",
       "      <th>id</th>\n",
       "      <th>priceprice</th>\n",
       "      <th>bedroomsnumber</th>\n",
       "      <th>bathroomsnumber</th>\n",
       "      <th>sqft_livingsquare</th>\n",
       "      <th>sqft_lotsquare</th>\n",
       "      <th>floorstotal</th>\n",
       "      <th>waterfront</th>\n",
       "      <th>view</th>\n",
       "      <th>condition</th>\n",
       "      <th>grade</th>\n",
       "      <th>sqft_above</th>\n",
       "      <th>sqft_basement</th>\n",
       "      <th>yr_built</th>\n",
       "      <th>yr_renovated</th>\n",
       "      <th>zipcode</th>\n",
       "      <th>lat</th>\n",
       "      <th>long</th>\n",
       "      <th>sqft_living15</th>\n",
       "      <th>sqft_lot15</th>\n",
       "    </tr>\n",
       "  </thead>\n",
       "  <tbody>\n",
       "    <tr>\n",
       "      <th>count</th>\n",
       "      <td>2.159700e+04</td>\n",
       "      <td>2.159700e+04</td>\n",
       "      <td>21597.000000</td>\n",
       "      <td>21597.000000</td>\n",
       "      <td>21597.000000</td>\n",
       "      <td>2.159700e+04</td>\n",
       "      <td>21597.000000</td>\n",
       "      <td>19206.000000</td>\n",
       "      <td>21534.000000</td>\n",
       "      <td>21597.000000</td>\n",
       "      <td>21597.000000</td>\n",
       "      <td>21597.000000</td>\n",
       "      <td>21145.000000</td>\n",
       "      <td>21597.000000</td>\n",
       "      <td>17749.000000</td>\n",
       "      <td>21597.000000</td>\n",
       "      <td>21597.000000</td>\n",
       "      <td>21597.000000</td>\n",
       "      <td>21597.000000</td>\n",
       "      <td>21597.000000</td>\n",
       "    </tr>\n",
       "    <tr>\n",
       "      <th>mean</th>\n",
       "      <td>4.580474e+09</td>\n",
       "      <td>5.402966e+05</td>\n",
       "      <td>3.373200</td>\n",
       "      <td>2.115826</td>\n",
       "      <td>2080.321850</td>\n",
       "      <td>1.509941e+04</td>\n",
       "      <td>1.494096</td>\n",
       "      <td>0.007602</td>\n",
       "      <td>0.233863</td>\n",
       "      <td>3.409825</td>\n",
       "      <td>7.657915</td>\n",
       "      <td>1788.596842</td>\n",
       "      <td>291.857224</td>\n",
       "      <td>1970.999676</td>\n",
       "      <td>836.650516</td>\n",
       "      <td>98077.951845</td>\n",
       "      <td>47.560093</td>\n",
       "      <td>-122.213983</td>\n",
       "      <td>1986.620318</td>\n",
       "      <td>12758.283512</td>\n",
       "    </tr>\n",
       "    <tr>\n",
       "      <th>std</th>\n",
       "      <td>2.876736e+09</td>\n",
       "      <td>3.673681e+05</td>\n",
       "      <td>0.926299</td>\n",
       "      <td>0.768984</td>\n",
       "      <td>918.106125</td>\n",
       "      <td>4.141264e+04</td>\n",
       "      <td>0.539683</td>\n",
       "      <td>0.086858</td>\n",
       "      <td>0.765686</td>\n",
       "      <td>0.650546</td>\n",
       "      <td>1.173200</td>\n",
       "      <td>827.759761</td>\n",
       "      <td>442.490863</td>\n",
       "      <td>29.375234</td>\n",
       "      <td>4000.110554</td>\n",
       "      <td>53.513072</td>\n",
       "      <td>0.138552</td>\n",
       "      <td>0.140724</td>\n",
       "      <td>685.230472</td>\n",
       "      <td>27274.441950</td>\n",
       "    </tr>\n",
       "    <tr>\n",
       "      <th>min</th>\n",
       "      <td>1.000102e+06</td>\n",
       "      <td>7.800000e+04</td>\n",
       "      <td>1.000000</td>\n",
       "      <td>0.500000</td>\n",
       "      <td>370.000000</td>\n",
       "      <td>5.200000e+02</td>\n",
       "      <td>1.000000</td>\n",
       "      <td>0.000000</td>\n",
       "      <td>0.000000</td>\n",
       "      <td>1.000000</td>\n",
       "      <td>3.000000</td>\n",
       "      <td>370.000000</td>\n",
       "      <td>0.000000</td>\n",
       "      <td>1900.000000</td>\n",
       "      <td>0.000000</td>\n",
       "      <td>98001.000000</td>\n",
       "      <td>47.155900</td>\n",
       "      <td>-122.519000</td>\n",
       "      <td>399.000000</td>\n",
       "      <td>651.000000</td>\n",
       "    </tr>\n",
       "    <tr>\n",
       "      <th>25%</th>\n",
       "      <td>2.123049e+09</td>\n",
       "      <td>3.220000e+05</td>\n",
       "      <td>3.000000</td>\n",
       "      <td>1.750000</td>\n",
       "      <td>1430.000000</td>\n",
       "      <td>5.040000e+03</td>\n",
       "      <td>1.000000</td>\n",
       "      <td>0.000000</td>\n",
       "      <td>0.000000</td>\n",
       "      <td>3.000000</td>\n",
       "      <td>7.000000</td>\n",
       "      <td>1190.000000</td>\n",
       "      <td>0.000000</td>\n",
       "      <td>1951.000000</td>\n",
       "      <td>0.000000</td>\n",
       "      <td>98033.000000</td>\n",
       "      <td>47.471100</td>\n",
       "      <td>-122.328000</td>\n",
       "      <td>1490.000000</td>\n",
       "      <td>5100.000000</td>\n",
       "    </tr>\n",
       "    <tr>\n",
       "      <th>50%</th>\n",
       "      <td>3.904930e+09</td>\n",
       "      <td>4.500000e+05</td>\n",
       "      <td>3.000000</td>\n",
       "      <td>2.250000</td>\n",
       "      <td>1910.000000</td>\n",
       "      <td>7.618000e+03</td>\n",
       "      <td>1.500000</td>\n",
       "      <td>0.000000</td>\n",
       "      <td>0.000000</td>\n",
       "      <td>3.000000</td>\n",
       "      <td>7.000000</td>\n",
       "      <td>1560.000000</td>\n",
       "      <td>0.000000</td>\n",
       "      <td>1975.000000</td>\n",
       "      <td>0.000000</td>\n",
       "      <td>98065.000000</td>\n",
       "      <td>47.571800</td>\n",
       "      <td>-122.231000</td>\n",
       "      <td>1840.000000</td>\n",
       "      <td>7620.000000</td>\n",
       "    </tr>\n",
       "    <tr>\n",
       "      <th>75%</th>\n",
       "      <td>7.308900e+09</td>\n",
       "      <td>6.450000e+05</td>\n",
       "      <td>4.000000</td>\n",
       "      <td>2.500000</td>\n",
       "      <td>2550.000000</td>\n",
       "      <td>1.068500e+04</td>\n",
       "      <td>2.000000</td>\n",
       "      <td>0.000000</td>\n",
       "      <td>0.000000</td>\n",
       "      <td>4.000000</td>\n",
       "      <td>8.000000</td>\n",
       "      <td>2210.000000</td>\n",
       "      <td>560.000000</td>\n",
       "      <td>1997.000000</td>\n",
       "      <td>0.000000</td>\n",
       "      <td>98118.000000</td>\n",
       "      <td>47.678000</td>\n",
       "      <td>-122.125000</td>\n",
       "      <td>2360.000000</td>\n",
       "      <td>10083.000000</td>\n",
       "    </tr>\n",
       "    <tr>\n",
       "      <th>max</th>\n",
       "      <td>9.900000e+09</td>\n",
       "      <td>7.700000e+06</td>\n",
       "      <td>33.000000</td>\n",
       "      <td>8.000000</td>\n",
       "      <td>13540.000000</td>\n",
       "      <td>1.651359e+06</td>\n",
       "      <td>3.500000</td>\n",
       "      <td>1.000000</td>\n",
       "      <td>4.000000</td>\n",
       "      <td>5.000000</td>\n",
       "      <td>13.000000</td>\n",
       "      <td>9410.000000</td>\n",
       "      <td>4820.000000</td>\n",
       "      <td>2015.000000</td>\n",
       "      <td>20150.000000</td>\n",
       "      <td>98199.000000</td>\n",
       "      <td>47.777600</td>\n",
       "      <td>-121.315000</td>\n",
       "      <td>6210.000000</td>\n",
       "      <td>871200.000000</td>\n",
       "    </tr>\n",
       "  </tbody>\n",
       "</table>\n",
       "</div>"
      ],
      "text/plain": [
       "                 id    priceprice  bedroomsnumber  bathroomsnumber  \\\n",
       "count  2.159700e+04  2.159700e+04    21597.000000     21597.000000   \n",
       "mean   4.580474e+09  5.402966e+05        3.373200         2.115826   \n",
       "std    2.876736e+09  3.673681e+05        0.926299         0.768984   \n",
       "min    1.000102e+06  7.800000e+04        1.000000         0.500000   \n",
       "25%    2.123049e+09  3.220000e+05        3.000000         1.750000   \n",
       "50%    3.904930e+09  4.500000e+05        3.000000         2.250000   \n",
       "75%    7.308900e+09  6.450000e+05        4.000000         2.500000   \n",
       "max    9.900000e+09  7.700000e+06       33.000000         8.000000   \n",
       "\n",
       "       sqft_livingsquare  sqft_lotsquare   floorstotal    waterfront  \\\n",
       "count       21597.000000    2.159700e+04  21597.000000  19206.000000   \n",
       "mean         2080.321850    1.509941e+04      1.494096      0.007602   \n",
       "std           918.106125    4.141264e+04      0.539683      0.086858   \n",
       "min           370.000000    5.200000e+02      1.000000      0.000000   \n",
       "25%          1430.000000    5.040000e+03      1.000000      0.000000   \n",
       "50%          1910.000000    7.618000e+03      1.500000      0.000000   \n",
       "75%          2550.000000    1.068500e+04      2.000000      0.000000   \n",
       "max         13540.000000    1.651359e+06      3.500000      1.000000   \n",
       "\n",
       "               view     condition         grade    sqft_above  sqft_basement  \\\n",
       "count  21534.000000  21597.000000  21597.000000  21597.000000   21145.000000   \n",
       "mean       0.233863      3.409825      7.657915   1788.596842     291.857224   \n",
       "std        0.765686      0.650546      1.173200    827.759761     442.490863   \n",
       "min        0.000000      1.000000      3.000000    370.000000       0.000000   \n",
       "25%        0.000000      3.000000      7.000000   1190.000000       0.000000   \n",
       "50%        0.000000      3.000000      7.000000   1560.000000       0.000000   \n",
       "75%        0.000000      4.000000      8.000000   2210.000000     560.000000   \n",
       "max        4.000000      5.000000     13.000000   9410.000000    4820.000000   \n",
       "\n",
       "           yr_built  yr_renovated       zipcode           lat          long  \\\n",
       "count  21597.000000  17749.000000  21597.000000  21597.000000  21597.000000   \n",
       "mean    1970.999676    836.650516  98077.951845     47.560093   -122.213983   \n",
       "std       29.375234   4000.110554     53.513072      0.138552      0.140724   \n",
       "min     1900.000000      0.000000  98001.000000     47.155900   -122.519000   \n",
       "25%     1951.000000      0.000000  98033.000000     47.471100   -122.328000   \n",
       "50%     1975.000000      0.000000  98065.000000     47.571800   -122.231000   \n",
       "75%     1997.000000      0.000000  98118.000000     47.678000   -122.125000   \n",
       "max     2015.000000  20150.000000  98199.000000     47.777600   -121.315000   \n",
       "\n",
       "       sqft_living15     sqft_lot15  \n",
       "count   21597.000000   21597.000000  \n",
       "mean     1986.620318   12758.283512  \n",
       "std       685.230472   27274.441950  \n",
       "min       399.000000     651.000000  \n",
       "25%      1490.000000    5100.000000  \n",
       "50%      1840.000000    7620.000000  \n",
       "75%      2360.000000   10083.000000  \n",
       "max      6210.000000  871200.000000  "
      ]
     },
     "execution_count": 42,
     "metadata": {},
     "output_type": "execute_result"
    }
   ],
   "source": [
    "# Get basic descriptive statistics for numeric columns\n",
    "kcdf.describe()"
   ]
  },
  {
   "cell_type": "code",
   "execution_count": null,
   "metadata": {},
   "outputs": [
    {
     "name": "stdout",
     "output_type": "stream",
     "text": [
      "<class 'pandas.core.frame.DataFrame'>\n",
      "RangeIndex: 21597 entries, 0 to 21596\n",
      "Data columns (total 21 columns):\n",
      " #   Column             Non-Null Count  Dtype  \n",
      "---  ------             --------------  -----  \n",
      " 0   id                 21597 non-null  int64  \n",
      " 1   datedate           21597 non-null  object \n",
      " 2   priceprice         21597 non-null  float64\n",
      " 3   bedroomsnumber     21597 non-null  float64\n",
      " 4   bathroomsnumber    21597 non-null  float64\n",
      " 5   sqft_livingsquare  21597 non-null  float64\n",
      " 6   sqft_lotsquare     21597 non-null  float64\n",
      " 7   floorstotal        21597 non-null  float64\n",
      " 8   waterfront         19206 non-null  float64\n",
      " 9   view               21534 non-null  float64\n",
      " 10  condition          21597 non-null  int64  \n",
      " 11  grade              21597 non-null  int64  \n",
      " 12  sqft_above         21597 non-null  float64\n",
      " 13  sqft_basement      21145 non-null  float64\n",
      " 14  yr_built           21597 non-null  int64  \n",
      " 15  yr_renovated       17749 non-null  float64\n",
      " 16  zipcode            21597 non-null  int64  \n",
      " 17  lat                21597 non-null  float64\n",
      " 18  long               21597 non-null  float64\n",
      " 19  sqft_living15      21597 non-null  float64\n",
      " 20  sqft_lot15         21597 non-null  float64\n",
      "dtypes: float64(15), int64(5), object(1)\n",
      "memory usage: 3.5+ MB\n"
     ]
    }
   ],
   "source": [
    "# View basic information about the dataset\n",
    "kcdf.info()"
   ]
  },
  {
   "cell_type": "code",
   "execution_count": null,
   "metadata": {},
   "outputs": [
    {
     "data": {
      "text/plain": [
       "id                   21420\n",
       "datedate               372\n",
       "priceprice            3622\n",
       "bedroomsnumber          12\n",
       "bathroomsnumber         29\n",
       "sqft_livingsquare     1034\n",
       "sqft_lotsquare        9776\n",
       "floorstotal              6\n",
       "waterfront               2\n",
       "view                     5\n",
       "condition                5\n",
       "grade                   11\n",
       "sqft_above             942\n",
       "sqft_basement          303\n",
       "yr_built               116\n",
       "yr_renovated            70\n",
       "zipcode                 70\n",
       "lat                   5033\n",
       "long                   752\n",
       "sqft_living15          777\n",
       "sqft_lot15            8682\n",
       "dtype: int64"
      ]
     },
     "execution_count": 4,
     "metadata": {},
     "output_type": "execute_result"
    }
   ],
   "source": [
    "# Count unique values for each column\n",
    "kcdf.nunique()"
   ]
  },
  {
   "cell_type": "code",
   "execution_count": null,
   "metadata": {},
   "outputs": [
    {
     "data": {
      "text/plain": [
       "id                      0\n",
       "datedate                0\n",
       "priceprice              0\n",
       "bedroomsnumber          0\n",
       "bathroomsnumber         0\n",
       "sqft_livingsquare       0\n",
       "sqft_lotsquare          0\n",
       "floorstotal             0\n",
       "waterfront           2391\n",
       "view                   63\n",
       "condition               0\n",
       "grade                   0\n",
       "sqft_above              0\n",
       "sqft_basement         452\n",
       "yr_built                0\n",
       "yr_renovated         3848\n",
       "zipcode                 0\n",
       "lat                     0\n",
       "long                    0\n",
       "sqft_living15           0\n",
       "sqft_lot15              0\n",
       "dtype: int64"
      ]
     },
     "execution_count": 6,
     "metadata": {},
     "output_type": "execute_result"
    }
   ],
   "source": [
    "# Total missing values per column\n",
    "kcdf.isnull().sum()"
   ]
  },
  {
   "cell_type": "code",
   "execution_count": null,
   "metadata": {},
   "outputs": [
    {
     "data": {
      "text/plain": [
       "id                    0.000000\n",
       "datedate              0.000000\n",
       "priceprice            0.000000\n",
       "bedroomsnumber        0.000000\n",
       "bathroomsnumber       0.000000\n",
       "sqft_livingsquare     0.000000\n",
       "sqft_lotsquare        0.000000\n",
       "floorstotal           0.000000\n",
       "waterfront           11.070982\n",
       "view                  0.291707\n",
       "condition             0.000000\n",
       "grade                 0.000000\n",
       "sqft_above            0.000000\n",
       "sqft_basement         2.092883\n",
       "yr_built              0.000000\n",
       "yr_renovated         17.817289\n",
       "zipcode               0.000000\n",
       "lat                   0.000000\n",
       "long                  0.000000\n",
       "sqft_living15         0.000000\n",
       "sqft_lot15            0.000000\n",
       "dtype: float64"
      ]
     },
     "execution_count": 7,
     "metadata": {},
     "output_type": "execute_result"
    }
   ],
   "source": [
    "# Check the percentage of missing values\n",
    "missing_percentage = kcdf.isnull().sum() / len(kcdf) * 100\n",
    "missing_percentage"
   ]
  },
  {
   "cell_type": "markdown",
   "metadata": {},
   "source": [
    "### Segregating Data Into Categorical and Continuous "
   ]
  },
  {
   "cell_type": "markdown",
   "metadata": {},
   "source": [
    "Variables are classified into Categorical and Continuous based on their nature and the type of data they represent."
   ]
  },
  {
   "cell_type": "markdown",
   "metadata": {},
   "source": [
    "#### Categorical Variables\n",
    "\n"
   ]
  },
  {
   "cell_type": "markdown",
   "metadata": {},
   "source": [
    "These variables represent distinct categories or groups. They are qualitative, meaning they describe a characteristic or quality rather than a quantity."
   ]
  },
  {
   "cell_type": "markdown",
   "metadata": {},
   "source": [
    "The following are the categorical variables in our data set:\n",
    "1. id\n",
    "2. dateDate\n",
    "3. waterfront\n",
    "4. view\n",
    "5. condition\n",
    "6. grade\n",
    "7. zipcode\n",
    "8. yr_built\n",
    "9. yr_renovated\n",
    "10. lat\n",
    "11. log"
   ]
  },
  {
   "cell_type": "markdown",
   "metadata": {},
   "source": [
    "### Continuous variables"
   ]
  },
  {
   "cell_type": "markdown",
   "metadata": {},
   "source": [
    "These variables represent measurable quantities. They are quantitative, meaning they measure how much or how many of something."
   ]
  },
  {
   "cell_type": "markdown",
   "metadata": {},
   "source": [
    "The following are the continuous variables in our data set:\n",
    "1. pricePrice\n",
    "2. bedroomsNumber\n",
    "3. bathroomsNumber\n",
    "4. sqft_livingsquare\n",
    "5. sqft_lotsquare\n",
    "6. floorsTotal\n",
    "7. sqft_above\n",
    "8. sqft_basement\n",
    "9. sqft_living15\n",
    "10. sqft_lot15"
   ]
  },
  {
   "cell_type": "markdown",
   "metadata": {},
   "source": [
    "## Hypotheses"
   ]
  },
  {
   "cell_type": "markdown",
   "metadata": {},
   "source": [
    "Having done very basic exploration of the data, here are some hypotheses I have made and will test during this EDA project"
   ]
  },
  {
   "cell_type": "markdown",
   "metadata": {},
   "source": [
    "#### Hypothesis 1\n",
    "\n",
    "Houses with more floors have larger living spaces \n"
   ]
  },
  {
   "cell_type": "markdown",
   "metadata": {},
   "source": [
    "#### Hypothesis 2\n",
    "\n",
    "Historical houses that have been renovated have larger basement areas compared to historical houses that have not been renovated.\n"
   ]
  },
  {
   "cell_type": "markdown",
   "metadata": {},
   "source": [
    "#### Hypothesis 3\n",
    "Houses located closer to the city center have higher price per square foot compared to houses on the outskirts."
   ]
  },
  {
   "cell_type": "markdown",
   "metadata": {},
   "source": [
    "## Exploring the Data"
   ]
  },
  {
   "cell_type": "markdown",
   "metadata": {},
   "source": [
    "### Continuous Variables"
   ]
  },
  {
   "cell_type": "code",
   "execution_count": 15,
   "metadata": {},
   "outputs": [],
   "source": [
    "#Importing the libraries required for plotting\n",
    "import matplotlib.pyplot as plt\n",
    "import seaborn as sns"
   ]
  },
  {
   "cell_type": "code",
   "execution_count": null,
   "metadata": {},
   "outputs": [],
   "source": [
    "def plot_histogram_boxplot(data, column):\n",
    "    \"\"\"\n",
    "    Generates a histogram and a boxplot for a given column side by side.\n",
    "    \n",
    "    Args:\n",
    "        data (DataFrame): The dataset containing the column.\n",
    "        column (str): The name of the column to visualize.\n",
    "    \"\"\"\n",
    "    plt.figure(figsize=(14, 6))\n",
    "\n",
    "    # Histogram with KDE\n",
    "    plt.subplot(1, 2, 1)\n",
    "    sns.histplot(data[column], kde=True, bins=30, color=\"skyblue\")\n",
    "    plt.title(f\"Histogram of {column}\")\n",
    "    plt.xlabel(column)\n",
    "    plt.ylabel(\"Frequency\")\n",
    "\n",
    "\n",
    "    # Boxplot\n",
    "    plt.subplot(1, 2, 2)\n",
    "    sns.boxplot(y=data[column], color=\"lightgreen\")\n",
    "    plt.title(f\"Boxplot of {column}\")\n",
    "    plt.ylabel(column)\n",
    "    \n",
    "    plt.tight_layout()\n",
    "    plt.show()\n",
    "\n"
   ]
  },
  {
   "cell_type": "code",
   "execution_count": 56,
   "metadata": {},
   "outputs": [
    {
     "name": "stderr",
     "output_type": "stream",
     "text": [
      "/Users/rahulgeorge/Desktop/Coriander_heatmap/pair_exercise/EDA-RealEstate-Data/.venv/lib/python3.11/site-packages/seaborn/_oldcore.py:1119: FutureWarning: use_inf_as_na option is deprecated and will be removed in a future version. Convert inf values to NaN before operating instead.\n",
      "  with pd.option_context('mode.use_inf_as_na', True):\n"
     ]
    },
    {
     "data": {
      "image/png": "[encoded data removed]",
      "text/plain": [
       "<Figure size 1400x600 with 2 Axes>"
      ]
     },
     "metadata": {},
     "output_type": "display_data"
    }
   ],
   "source": [
    "plot_histogram_boxplot(kcdf, \"priceprice\")  \n"
   ]
  },
  {
   "cell_type": "markdown",
   "metadata": {},
   "source": []
  },
  {
   "cell_type": "code",
   "execution_count": 58,
   "metadata": {},
   "outputs": [
    {
     "name": "stderr",
     "output_type": "stream",
     "text": [
      "/Users/rahulgeorge/Desktop/Coriander_heatmap/pair_exercise/EDA-RealEstate-Data/.venv/lib/python3.11/site-packages/seaborn/_oldcore.py:1119: FutureWarning: use_inf_as_na option is deprecated and will be removed in a future version. Convert inf values to NaN before operating instead.\n",
      "  with pd.option_context('mode.use_inf_as_na', True):\n"
     ]
    },
    {
     "data": {
      "image/png": "[encoded data removed]",
      "text/plain": [
       "<Figure size 1400x600 with 2 Axes>"
      ]
     },
     "metadata": {},
     "output_type": "display_data"
    }
   ],
   "source": [
    "plot_histogram_boxplot(kcdf, \"bedroomsnumber\")  "
   ]
  },
  {
   "cell_type": "markdown",
   "metadata": {},
   "source": []
  },
  {
   "cell_type": "code",
   "execution_count": 59,
   "metadata": {},
   "outputs": [
    {
     "name": "stderr",
     "output_type": "stream",
     "text": [
      "/Users/rahulgeorge/Desktop/Coriander_heatmap/pair_exercise/EDA-RealEstate-Data/.venv/lib/python3.11/site-packages/seaborn/_oldcore.py:1119: FutureWarning: use_inf_as_na option is deprecated and will be removed in a future version. Convert inf values to NaN before operating instead.\n",
      "  with pd.option_context('mode.use_inf_as_na', True):\n"
     ]
    },
    {
     "data": {
      "image/png": "[encoded data removed]",
      "text/plain": [
       "<Figure size 1400x600 with 2 Axes>"
      ]
     },
     "metadata": {},
     "output_type": "display_data"
    }
   ],
   "source": [
    "plot_histogram_boxplot(kcdf, \"bathroomsnumber\")  "
   ]
  },
  {
   "cell_type": "markdown",
   "metadata": {},
   "source": []
  },
  {
   "cell_type": "code",
   "execution_count": null,
   "metadata": {},
   "outputs": [],
   "source": [
    "plot_histogram_boxplot(kcdf, \"bathroomsnumber\") "
   ]
  }
 ],
 "metadata": {
  "kernelspec": {
   "display_name": ".venv",
   "language": "python",
   "name": "python3"
  },
  "language_info": {
   "codemirror_mode": {
    "name": "ipython",
    "version": 3
   },
   "file_extension": ".py",
   "mimetype": "text/x-python",
   "name": "python",
   "nbconvert_exporter": "python",
   "pygments_lexer": "ipython3",
   "version": "3.11.3"
  }
 },
 "nbformat": 4,
 "nbformat_minor": 2
}
